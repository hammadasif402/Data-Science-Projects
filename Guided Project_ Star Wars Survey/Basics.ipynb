{
 "cells": [
  {
   "cell_type": "markdown",
   "metadata": {},
   "source": [
    "# Strar Wars Survey\n",
    "\n",
    "While waiting for Star Wars: The Force Awakens to come out, the team at FiveThirtyEight became interested in answering some questions about Star Wars fans. This is their main question: \n",
    "**Does the rest of America realize that “The Empire Strikes Back” is clearly the best of the bunch?**\n",
    "\n",
    "They started to collect data using the online tool SurveyMonkey. They received 835 total responses. The result is available [here](https://github.com/fivethirtyeight/data/tree/master/star-wars-survey).\n",
    "\n",
    "We are going to read and clean data and then figure out the movies with the highest ranking and views based on gender, education, location, and being fans or not-fans. We are also going to find out which character the respondents like and dislike and which one is controversial."
   ]
  },
  {
   "cell_type": "code",
   "execution_count": 1,
   "metadata": {
    "scrolled": true
   },
   "outputs": [
    {
     "data": {
      "text/html": [
       "<div>\n",
       "<style scoped>\n",
       "    .dataframe tbody tr th:only-of-type {\n",
       "        vertical-align: middle;\n",
       "    }\n",
       "\n",
       "    .dataframe tbody tr th {\n",
       "        vertical-align: top;\n",
       "    }\n",
       "\n",
       "    .dataframe thead th {\n",
       "        text-align: right;\n",
       "    }\n",
       "</style>\n",
       "<table border=\"1\" class=\"dataframe\">\n",
       "  <thead>\n",
       "    <tr style=\"text-align: right;\">\n",
       "      <th></th>\n",
       "      <th>RespondentID</th>\n",
       "      <th>Have you seen any of the 6 films in the Star Wars franchise?</th>\n",
       "      <th>Do you consider yourself to be a fan of the Star Wars film franchise?</th>\n",
       "      <th>Which of the following Star Wars films have you seen? Please select all that apply.</th>\n",
       "      <th>Unnamed: 4</th>\n",
       "      <th>Unnamed: 5</th>\n",
       "      <th>Unnamed: 6</th>\n",
       "      <th>Unnamed: 7</th>\n",
       "      <th>Unnamed: 8</th>\n",
       "      <th>Please rank the Star Wars films in order of preference with 1 being your favorite film in the franchise and 6 being your least favorite film.</th>\n",
       "      <th>...</th>\n",
       "      <th>Unnamed: 28</th>\n",
       "      <th>Which character shot first?</th>\n",
       "      <th>Are you familiar with the Expanded Universe?</th>\n",
       "      <th>Do you consider yourself to be a fan of the Expanded Universe?ÂÃ¦</th>\n",
       "      <th>Do you consider yourself to be a fan of the Star Trek franchise?</th>\n",
       "      <th>Gender</th>\n",
       "      <th>Age</th>\n",
       "      <th>Household Income</th>\n",
       "      <th>Education</th>\n",
       "      <th>Location (Census Region)</th>\n",
       "    </tr>\n",
       "  </thead>\n",
       "  <tbody>\n",
       "    <tr>\n",
       "      <th>0</th>\n",
       "      <td>NaN</td>\n",
       "      <td>Response</td>\n",
       "      <td>Response</td>\n",
       "      <td>Star Wars: Episode I  The Phantom Menace</td>\n",
       "      <td>Star Wars: Episode II  Attack of the Clones</td>\n",
       "      <td>Star Wars: Episode III  Revenge of the Sith</td>\n",
       "      <td>Star Wars: Episode IV  A New Hope</td>\n",
       "      <td>Star Wars: Episode V The Empire Strikes Back</td>\n",
       "      <td>Star Wars: Episode VI Return of the Jedi</td>\n",
       "      <td>Star Wars: Episode I  The Phantom Menace</td>\n",
       "      <td>...</td>\n",
       "      <td>Yoda</td>\n",
       "      <td>Response</td>\n",
       "      <td>Response</td>\n",
       "      <td>Response</td>\n",
       "      <td>Response</td>\n",
       "      <td>Response</td>\n",
       "      <td>Response</td>\n",
       "      <td>Response</td>\n",
       "      <td>Response</td>\n",
       "      <td>Response</td>\n",
       "    </tr>\n",
       "    <tr>\n",
       "      <th>1</th>\n",
       "      <td>3.292880e+09</td>\n",
       "      <td>Yes</td>\n",
       "      <td>Yes</td>\n",
       "      <td>Star Wars: Episode I  The Phantom Menace</td>\n",
       "      <td>Star Wars: Episode II  Attack of the Clones</td>\n",
       "      <td>Star Wars: Episode III  Revenge of the Sith</td>\n",
       "      <td>Star Wars: Episode IV  A New Hope</td>\n",
       "      <td>Star Wars: Episode V The Empire Strikes Back</td>\n",
       "      <td>Star Wars: Episode VI Return of the Jedi</td>\n",
       "      <td>3</td>\n",
       "      <td>...</td>\n",
       "      <td>Very favorably</td>\n",
       "      <td>I don't understand this question</td>\n",
       "      <td>Yes</td>\n",
       "      <td>No</td>\n",
       "      <td>No</td>\n",
       "      <td>Male</td>\n",
       "      <td>18-29</td>\n",
       "      <td>NaN</td>\n",
       "      <td>High school degree</td>\n",
       "      <td>South Atlantic</td>\n",
       "    </tr>\n",
       "    <tr>\n",
       "      <th>2</th>\n",
       "      <td>3.292880e+09</td>\n",
       "      <td>No</td>\n",
       "      <td>NaN</td>\n",
       "      <td>NaN</td>\n",
       "      <td>NaN</td>\n",
       "      <td>NaN</td>\n",
       "      <td>NaN</td>\n",
       "      <td>NaN</td>\n",
       "      <td>NaN</td>\n",
       "      <td>NaN</td>\n",
       "      <td>...</td>\n",
       "      <td>NaN</td>\n",
       "      <td>NaN</td>\n",
       "      <td>NaN</td>\n",
       "      <td>NaN</td>\n",
       "      <td>Yes</td>\n",
       "      <td>Male</td>\n",
       "      <td>18-29</td>\n",
       "      <td>$0 - $24,999</td>\n",
       "      <td>Bachelor degree</td>\n",
       "      <td>West South Central</td>\n",
       "    </tr>\n",
       "    <tr>\n",
       "      <th>3</th>\n",
       "      <td>3.292765e+09</td>\n",
       "      <td>Yes</td>\n",
       "      <td>No</td>\n",
       "      <td>Star Wars: Episode I  The Phantom Menace</td>\n",
       "      <td>Star Wars: Episode II  Attack of the Clones</td>\n",
       "      <td>Star Wars: Episode III  Revenge of the Sith</td>\n",
       "      <td>NaN</td>\n",
       "      <td>NaN</td>\n",
       "      <td>NaN</td>\n",
       "      <td>1</td>\n",
       "      <td>...</td>\n",
       "      <td>Unfamiliar (N/A)</td>\n",
       "      <td>I don't understand this question</td>\n",
       "      <td>No</td>\n",
       "      <td>NaN</td>\n",
       "      <td>No</td>\n",
       "      <td>Male</td>\n",
       "      <td>18-29</td>\n",
       "      <td>$0 - $24,999</td>\n",
       "      <td>High school degree</td>\n",
       "      <td>West North Central</td>\n",
       "    </tr>\n",
       "    <tr>\n",
       "      <th>4</th>\n",
       "      <td>3.292763e+09</td>\n",
       "      <td>Yes</td>\n",
       "      <td>Yes</td>\n",
       "      <td>Star Wars: Episode I  The Phantom Menace</td>\n",
       "      <td>Star Wars: Episode II  Attack of the Clones</td>\n",
       "      <td>Star Wars: Episode III  Revenge of the Sith</td>\n",
       "      <td>Star Wars: Episode IV  A New Hope</td>\n",
       "      <td>Star Wars: Episode V The Empire Strikes Back</td>\n",
       "      <td>Star Wars: Episode VI Return of the Jedi</td>\n",
       "      <td>5</td>\n",
       "      <td>...</td>\n",
       "      <td>Very favorably</td>\n",
       "      <td>I don't understand this question</td>\n",
       "      <td>No</td>\n",
       "      <td>NaN</td>\n",
       "      <td>Yes</td>\n",
       "      <td>Male</td>\n",
       "      <td>18-29</td>\n",
       "      <td>$100,000 - $149,999</td>\n",
       "      <td>Some college or Associate degree</td>\n",
       "      <td>West North Central</td>\n",
       "    </tr>\n",
       "    <tr>\n",
       "      <th>5</th>\n",
       "      <td>3.292731e+09</td>\n",
       "      <td>Yes</td>\n",
       "      <td>Yes</td>\n",
       "      <td>Star Wars: Episode I  The Phantom Menace</td>\n",
       "      <td>Star Wars: Episode II  Attack of the Clones</td>\n",
       "      <td>Star Wars: Episode III  Revenge of the Sith</td>\n",
       "      <td>Star Wars: Episode IV  A New Hope</td>\n",
       "      <td>Star Wars: Episode V The Empire Strikes Back</td>\n",
       "      <td>Star Wars: Episode VI Return of the Jedi</td>\n",
       "      <td>5</td>\n",
       "      <td>...</td>\n",
       "      <td>Somewhat favorably</td>\n",
       "      <td>Greedo</td>\n",
       "      <td>Yes</td>\n",
       "      <td>No</td>\n",
       "      <td>No</td>\n",
       "      <td>Male</td>\n",
       "      <td>18-29</td>\n",
       "      <td>$100,000 - $149,999</td>\n",
       "      <td>Some college or Associate degree</td>\n",
       "      <td>West North Central</td>\n",
       "    </tr>\n",
       "    <tr>\n",
       "      <th>6</th>\n",
       "      <td>3.292719e+09</td>\n",
       "      <td>Yes</td>\n",
       "      <td>Yes</td>\n",
       "      <td>Star Wars: Episode I  The Phantom Menace</td>\n",
       "      <td>Star Wars: Episode II  Attack of the Clones</td>\n",
       "      <td>Star Wars: Episode III  Revenge of the Sith</td>\n",
       "      <td>Star Wars: Episode IV  A New Hope</td>\n",
       "      <td>Star Wars: Episode V The Empire Strikes Back</td>\n",
       "      <td>Star Wars: Episode VI Return of the Jedi</td>\n",
       "      <td>1</td>\n",
       "      <td>...</td>\n",
       "      <td>Very favorably</td>\n",
       "      <td>Han</td>\n",
       "      <td>Yes</td>\n",
       "      <td>No</td>\n",
       "      <td>Yes</td>\n",
       "      <td>Male</td>\n",
       "      <td>18-29</td>\n",
       "      <td>$25,000 - $49,999</td>\n",
       "      <td>Bachelor degree</td>\n",
       "      <td>Middle Atlantic</td>\n",
       "    </tr>\n",
       "    <tr>\n",
       "      <th>7</th>\n",
       "      <td>3.292685e+09</td>\n",
       "      <td>Yes</td>\n",
       "      <td>Yes</td>\n",
       "      <td>Star Wars: Episode I  The Phantom Menace</td>\n",
       "      <td>Star Wars: Episode II  Attack of the Clones</td>\n",
       "      <td>Star Wars: Episode III  Revenge of the Sith</td>\n",
       "      <td>Star Wars: Episode IV  A New Hope</td>\n",
       "      <td>Star Wars: Episode V The Empire Strikes Back</td>\n",
       "      <td>Star Wars: Episode VI Return of the Jedi</td>\n",
       "      <td>6</td>\n",
       "      <td>...</td>\n",
       "      <td>Very favorably</td>\n",
       "      <td>Han</td>\n",
       "      <td>Yes</td>\n",
       "      <td>No</td>\n",
       "      <td>No</td>\n",
       "      <td>Male</td>\n",
       "      <td>18-29</td>\n",
       "      <td>NaN</td>\n",
       "      <td>High school degree</td>\n",
       "      <td>East North Central</td>\n",
       "    </tr>\n",
       "    <tr>\n",
       "      <th>8</th>\n",
       "      <td>3.292664e+09</td>\n",
       "      <td>Yes</td>\n",
       "      <td>Yes</td>\n",
       "      <td>Star Wars: Episode I  The Phantom Menace</td>\n",
       "      <td>Star Wars: Episode II  Attack of the Clones</td>\n",
       "      <td>Star Wars: Episode III  Revenge of the Sith</td>\n",
       "      <td>Star Wars: Episode IV  A New Hope</td>\n",
       "      <td>Star Wars: Episode V The Empire Strikes Back</td>\n",
       "      <td>Star Wars: Episode VI Return of the Jedi</td>\n",
       "      <td>4</td>\n",
       "      <td>...</td>\n",
       "      <td>Very favorably</td>\n",
       "      <td>Han</td>\n",
       "      <td>No</td>\n",
       "      <td>NaN</td>\n",
       "      <td>Yes</td>\n",
       "      <td>Male</td>\n",
       "      <td>18-29</td>\n",
       "      <td>NaN</td>\n",
       "      <td>High school degree</td>\n",
       "      <td>South Atlantic</td>\n",
       "    </tr>\n",
       "    <tr>\n",
       "      <th>9</th>\n",
       "      <td>3.292654e+09</td>\n",
       "      <td>Yes</td>\n",
       "      <td>Yes</td>\n",
       "      <td>Star Wars: Episode I  The Phantom Menace</td>\n",
       "      <td>Star Wars: Episode II  Attack of the Clones</td>\n",
       "      <td>Star Wars: Episode III  Revenge of the Sith</td>\n",
       "      <td>Star Wars: Episode IV  A New Hope</td>\n",
       "      <td>Star Wars: Episode V The Empire Strikes Back</td>\n",
       "      <td>Star Wars: Episode VI Return of the Jedi</td>\n",
       "      <td>5</td>\n",
       "      <td>...</td>\n",
       "      <td>Somewhat favorably</td>\n",
       "      <td>Han</td>\n",
       "      <td>No</td>\n",
       "      <td>NaN</td>\n",
       "      <td>No</td>\n",
       "      <td>Male</td>\n",
       "      <td>18-29</td>\n",
       "      <td>$0 - $24,999</td>\n",
       "      <td>Some college or Associate degree</td>\n",
       "      <td>South Atlantic</td>\n",
       "    </tr>\n",
       "  </tbody>\n",
       "</table>\n",
       "<p>10 rows × 38 columns</p>\n",
       "</div>"
      ],
      "text/plain": [
       "   RespondentID Have you seen any of the 6 films in the Star Wars franchise?  \\\n",
       "0           NaN                                           Response             \n",
       "1  3.292880e+09                                                Yes             \n",
       "2  3.292880e+09                                                 No             \n",
       "3  3.292765e+09                                                Yes             \n",
       "4  3.292763e+09                                                Yes             \n",
       "5  3.292731e+09                                                Yes             \n",
       "6  3.292719e+09                                                Yes             \n",
       "7  3.292685e+09                                                Yes             \n",
       "8  3.292664e+09                                                Yes             \n",
       "9  3.292654e+09                                                Yes             \n",
       "\n",
       "  Do you consider yourself to be a fan of the Star Wars film franchise?  \\\n",
       "0                                           Response                      \n",
       "1                                                Yes                      \n",
       "2                                                NaN                      \n",
       "3                                                 No                      \n",
       "4                                                Yes                      \n",
       "5                                                Yes                      \n",
       "6                                                Yes                      \n",
       "7                                                Yes                      \n",
       "8                                                Yes                      \n",
       "9                                                Yes                      \n",
       "\n",
       "  Which of the following Star Wars films have you seen? Please select all that apply.  \\\n",
       "0           Star Wars: Episode I  The Phantom Menace                                    \n",
       "1           Star Wars: Episode I  The Phantom Menace                                    \n",
       "2                                                NaN                                    \n",
       "3           Star Wars: Episode I  The Phantom Menace                                    \n",
       "4           Star Wars: Episode I  The Phantom Menace                                    \n",
       "5           Star Wars: Episode I  The Phantom Menace                                    \n",
       "6           Star Wars: Episode I  The Phantom Menace                                    \n",
       "7           Star Wars: Episode I  The Phantom Menace                                    \n",
       "8           Star Wars: Episode I  The Phantom Menace                                    \n",
       "9           Star Wars: Episode I  The Phantom Menace                                    \n",
       "\n",
       "                                    Unnamed: 4  \\\n",
       "0  Star Wars: Episode II  Attack of the Clones   \n",
       "1  Star Wars: Episode II  Attack of the Clones   \n",
       "2                                          NaN   \n",
       "3  Star Wars: Episode II  Attack of the Clones   \n",
       "4  Star Wars: Episode II  Attack of the Clones   \n",
       "5  Star Wars: Episode II  Attack of the Clones   \n",
       "6  Star Wars: Episode II  Attack of the Clones   \n",
       "7  Star Wars: Episode II  Attack of the Clones   \n",
       "8  Star Wars: Episode II  Attack of the Clones   \n",
       "9  Star Wars: Episode II  Attack of the Clones   \n",
       "\n",
       "                                    Unnamed: 5  \\\n",
       "0  Star Wars: Episode III  Revenge of the Sith   \n",
       "1  Star Wars: Episode III  Revenge of the Sith   \n",
       "2                                          NaN   \n",
       "3  Star Wars: Episode III  Revenge of the Sith   \n",
       "4  Star Wars: Episode III  Revenge of the Sith   \n",
       "5  Star Wars: Episode III  Revenge of the Sith   \n",
       "6  Star Wars: Episode III  Revenge of the Sith   \n",
       "7  Star Wars: Episode III  Revenge of the Sith   \n",
       "8  Star Wars: Episode III  Revenge of the Sith   \n",
       "9  Star Wars: Episode III  Revenge of the Sith   \n",
       "\n",
       "                          Unnamed: 6  \\\n",
       "0  Star Wars: Episode IV  A New Hope   \n",
       "1  Star Wars: Episode IV  A New Hope   \n",
       "2                                NaN   \n",
       "3                                NaN   \n",
       "4  Star Wars: Episode IV  A New Hope   \n",
       "5  Star Wars: Episode IV  A New Hope   \n",
       "6  Star Wars: Episode IV  A New Hope   \n",
       "7  Star Wars: Episode IV  A New Hope   \n",
       "8  Star Wars: Episode IV  A New Hope   \n",
       "9  Star Wars: Episode IV  A New Hope   \n",
       "\n",
       "                                     Unnamed: 7  \\\n",
       "0  Star Wars: Episode V The Empire Strikes Back   \n",
       "1  Star Wars: Episode V The Empire Strikes Back   \n",
       "2                                           NaN   \n",
       "3                                           NaN   \n",
       "4  Star Wars: Episode V The Empire Strikes Back   \n",
       "5  Star Wars: Episode V The Empire Strikes Back   \n",
       "6  Star Wars: Episode V The Empire Strikes Back   \n",
       "7  Star Wars: Episode V The Empire Strikes Back   \n",
       "8  Star Wars: Episode V The Empire Strikes Back   \n",
       "9  Star Wars: Episode V The Empire Strikes Back   \n",
       "\n",
       "                                 Unnamed: 8  \\\n",
       "0  Star Wars: Episode VI Return of the Jedi   \n",
       "1  Star Wars: Episode VI Return of the Jedi   \n",
       "2                                       NaN   \n",
       "3                                       NaN   \n",
       "4  Star Wars: Episode VI Return of the Jedi   \n",
       "5  Star Wars: Episode VI Return of the Jedi   \n",
       "6  Star Wars: Episode VI Return of the Jedi   \n",
       "7  Star Wars: Episode VI Return of the Jedi   \n",
       "8  Star Wars: Episode VI Return of the Jedi   \n",
       "9  Star Wars: Episode VI Return of the Jedi   \n",
       "\n",
       "  Please rank the Star Wars films in order of preference with 1 being your favorite film in the franchise and 6 being your least favorite film.  \\\n",
       "0           Star Wars: Episode I  The Phantom Menace                                                                                              \n",
       "1                                                  3                                                                                              \n",
       "2                                                NaN                                                                                              \n",
       "3                                                  1                                                                                              \n",
       "4                                                  5                                                                                              \n",
       "5                                                  5                                                                                              \n",
       "6                                                  1                                                                                              \n",
       "7                                                  6                                                                                              \n",
       "8                                                  4                                                                                              \n",
       "9                                                  5                                                                                              \n",
       "\n",
       "   ...         Unnamed: 28       Which character shot first?  \\\n",
       "0  ...                Yoda                          Response   \n",
       "1  ...      Very favorably  I don't understand this question   \n",
       "2  ...                 NaN                               NaN   \n",
       "3  ...    Unfamiliar (N/A)  I don't understand this question   \n",
       "4  ...      Very favorably  I don't understand this question   \n",
       "5  ...  Somewhat favorably                            Greedo   \n",
       "6  ...      Very favorably                               Han   \n",
       "7  ...      Very favorably                               Han   \n",
       "8  ...      Very favorably                               Han   \n",
       "9  ...  Somewhat favorably                               Han   \n",
       "\n",
       "  Are you familiar with the Expanded Universe?  \\\n",
       "0                                     Response   \n",
       "1                                          Yes   \n",
       "2                                          NaN   \n",
       "3                                           No   \n",
       "4                                           No   \n",
       "5                                          Yes   \n",
       "6                                          Yes   \n",
       "7                                          Yes   \n",
       "8                                           No   \n",
       "9                                           No   \n",
       "\n",
       "  Do you consider yourself to be a fan of the Expanded Universe?ÂÃ¦  \\\n",
       "0                                           Response                   \n",
       "1                                                 No                   \n",
       "2                                                NaN                   \n",
       "3                                                NaN                   \n",
       "4                                                NaN                   \n",
       "5                                                 No                   \n",
       "6                                                 No                   \n",
       "7                                                 No                   \n",
       "8                                                NaN                   \n",
       "9                                                NaN                   \n",
       "\n",
       "  Do you consider yourself to be a fan of the Star Trek franchise?    Gender  \\\n",
       "0                                           Response                Response   \n",
       "1                                                 No                    Male   \n",
       "2                                                Yes                    Male   \n",
       "3                                                 No                    Male   \n",
       "4                                                Yes                    Male   \n",
       "5                                                 No                    Male   \n",
       "6                                                Yes                    Male   \n",
       "7                                                 No                    Male   \n",
       "8                                                Yes                    Male   \n",
       "9                                                 No                    Male   \n",
       "\n",
       "        Age     Household Income                         Education  \\\n",
       "0  Response             Response                          Response   \n",
       "1     18-29                  NaN                High school degree   \n",
       "2     18-29         $0 - $24,999                   Bachelor degree   \n",
       "3     18-29         $0 - $24,999                High school degree   \n",
       "4     18-29  $100,000 - $149,999  Some college or Associate degree   \n",
       "5     18-29  $100,000 - $149,999  Some college or Associate degree   \n",
       "6     18-29    $25,000 - $49,999                   Bachelor degree   \n",
       "7     18-29                  NaN                High school degree   \n",
       "8     18-29                  NaN                High school degree   \n",
       "9     18-29         $0 - $24,999  Some college or Associate degree   \n",
       "\n",
       "  Location (Census Region)  \n",
       "0                 Response  \n",
       "1           South Atlantic  \n",
       "2       West South Central  \n",
       "3       West North Central  \n",
       "4       West North Central  \n",
       "5       West North Central  \n",
       "6          Middle Atlantic  \n",
       "7       East North Central  \n",
       "8           South Atlantic  \n",
       "9           South Atlantic  \n",
       "\n",
       "[10 rows x 38 columns]"
      ]
     },
     "execution_count": 1,
     "metadata": {},
     "output_type": "execute_result"
    }
   ],
   "source": [
    "import pandas as pd\n",
    "star_wars = pd.read_csv(\"star_wars.csv\", encoding=\"ISO-8859-1\")\n",
    "star_wars.head(10)"
   ]
  },
  {
   "cell_type": "markdown",
   "metadata": {},
   "source": [
    "The data has several columns, including:\n",
    "\n",
    "- **RespondentID** - An anonymized ID for the respondent (the person taking the survey)\n",
    "- **Gender** - The respondent's gender\n",
    "- **Age** - The respondent's age\n",
    "- **Household Income** - The respondent's income\n",
    "- **Education** - The respondent's education level\n",
    "- **Location (Census Region)** - The respondent's location\n",
    "- **Have you seen any of the 6 films in the Star Wars franchise?** - Has a Yes or No response\n",
    "- **Do you consider yourself to be a fan of the Star Wars film franchise?** - Has a Yes or No response\n",
    "\n",
    "There are several other columns containing answers to questions about the Star Wars movies. For some questions, the respondent had to check one or more boxes. This type of data is difficult to represent in columnar format. As a result, this data set needs a lot of cleaning."
   ]
  },
  {
   "cell_type": "markdown",
   "metadata": {},
   "source": [
    "## Data Cleaning\n",
    "Let's start data cleaning by removing invalid rows and convering the type of some columns if required.\n",
    "\n",
    "### Remove invalid rows\n",
    "RespondentID is supposed to be a unique ID for each respondent, but by looking at the above table it's blank or Nan in some rows. Let's remove any rows with an invalid RespondentID."
   ]
  },
  {
   "cell_type": "code",
   "execution_count": 2,
   "metadata": {},
   "outputs": [],
   "source": [
    "star_wars = star_wars[star_wars['RespondentID'].notnull()]"
   ]
  },
  {
   "cell_type": "markdown",
   "metadata": {},
   "source": [
    "### Convert some columns to boolean\n",
    "Working with boolean columns is easier so we are going to convert some of the columns. To convert the following two columns to boolean we need to convert Yes to True and No to False:\n",
    "\n",
    "- Have you seen any of the 6 films in the Star Wars franchise?\n",
    "- Do you consider yourself to be a fan of the Star Wars film franchise?"
   ]
  },
  {
   "cell_type": "code",
   "execution_count": 3,
   "metadata": {},
   "outputs": [
    {
     "name": "stdout",
     "output_type": "stream",
     "text": [
      "Have you seen any of the 6 films in the Star Wars franchise?:\n",
      "True     936\n",
      "False    250\n",
      "Name: Have you seen any of the 6 films in the Star Wars franchise?, dtype: int64\n",
      "*************\n",
      "Do you consider yourself to be a fan of the Star Wars film franchise?:\n",
      "True     552\n",
      "True     350\n",
      "False    284\n",
      "Name: Do you consider yourself to be a fan of the Star Wars film franchise?, dtype: int64\n",
      "*************\n"
     ]
    }
   ],
   "source": [
    "yes_no = {\n",
    "    \"Yes\": True,\n",
    "    \"No\": False\n",
    "}\n",
    "column_names = [\n",
    "    'Have you seen any of the 6 films in the Star Wars franchise?',\n",
    "    'Do you consider yourself to be a fan of the Star Wars film franchise?'\n",
    "]\n",
    "for col in column_names:\n",
    "    star_wars[col] = star_wars[col].map(yes_no)\n",
    "    #star_wars[col] = star_wars[col].astype('bool')\n",
    "    print(\"{}:\\n{}\".format(col, star_wars[col].value_counts(dropna = False)))\n",
    "    print(\"*************\")"
   ]
  },
  {
   "cell_type": "markdown",
   "metadata": {},
   "source": [
    "The following columns represent a single checkbox question. So we need to convert Nan to False and the name of the movie to True.\n",
    "\n",
    "- **Which of the following Star Wars films have you seen? Please select all that apply.** - Whether or not the respondent saw Star Wars: Episode I The Phantom Menace.\n",
    "- **Unnamed: 4** - Whether or not the respondent saw Star Wars: Episode II Attack of the Clones.\n",
    "- **Unnamed: 5** - Whether or not the respondent saw Star Wars: Episode III Revenge of the Sith.\n",
    "- **Unnamed: 6** - Whether or not the respondent saw Star Wars: Episode IV A New Hope.\n",
    "- **Unnamed: 7** - Whether or not the respondent saw Star Wars: Episode V The Empire Strikes Back.\n",
    "- **Unnamed: 8** - Whether or not the respondent saw Star Wars: Episode VI Return of the Jedi."
   ]
  },
  {
   "cell_type": "code",
   "execution_count": 4,
   "metadata": {},
   "outputs": [
    {
     "name": "stdout",
     "output_type": "stream",
     "text": [
      "True     673\n",
      "False    513\n",
      "Name: Which of the following Star Wars films have you seen? Please select all that apply., dtype: int64\n",
      "***************\n",
      "False    615\n",
      "True     571\n",
      "Name: Unnamed: 4, dtype: int64\n",
      "***************\n",
      "False    636\n",
      "True     550\n",
      "Name: Unnamed: 5, dtype: int64\n",
      "***************\n",
      "True     607\n",
      "False    579\n",
      "Name: Unnamed: 6, dtype: int64\n",
      "***************\n",
      "True     758\n",
      "False    428\n",
      "Name: Unnamed: 7, dtype: int64\n",
      "***************\n",
      "True     738\n",
      "False    448\n",
      "Name: Unnamed: 8, dtype: int64\n",
      "***************\n"
     ]
    }
   ],
   "source": [
    "import numpy as np\n",
    "#A list of column names\n",
    "columns = star_wars.columns[3:9]\n",
    "# A dictionary for the conversion of each column:\n",
    "conversion = {\n",
    "    columns[0]: {\n",
    "    \"Star Wars: Episode I  The Phantom Menace\": True,\n",
    "      np.NaN: False  \n",
    "    },\n",
    "    columns[1]: {\n",
    "      'Star Wars: Episode II  Attack of the Clones': True,\n",
    "      np.NaN: False\n",
    "    },\n",
    "    columns[2]: {\n",
    "      'Star Wars: Episode III  Revenge of the Sith': True,\n",
    "      np.NaN: False\n",
    "    },\n",
    "    columns[3]: {\n",
    "      'Star Wars: Episode IV  A New Hope': True,\n",
    "      np.NaN: False\n",
    "    },\n",
    "    columns[4]: {\n",
    "      'Star Wars: Episode V The Empire Strikes Back': True,\n",
    "      np.NaN: False\n",
    "    },\n",
    "    columns[5]: {\n",
    "      'Star Wars: Episode VI Return of the Jedi': True,\n",
    "      np.NaN: False\n",
    "    }    \n",
    "}\n",
    "\n",
    "# Convert the values of the column to True or False and print the counts of each\n",
    "for col in columns:\n",
    "    star_wars[col] = star_wars[col].map(conversion[col])\n",
    "    print(star_wars[col].value_counts(dropna = False))\n",
    "    print('***************')\n"
   ]
  },
  {
   "cell_type": "code",
   "execution_count": 5,
   "metadata": {},
   "outputs": [
    {
     "name": "stdout",
     "output_type": "stream",
     "text": [
      "Index(['seen_1', 'seen_2', 'seen_3', 'seen_4', 'seen_5', 'seen_6'], dtype='object')\n"
     ]
    }
   ],
   "source": [
    "## Rename columns\n",
    "renamed_columns = {}\n",
    "for i in range(6):\n",
    "    renamed_columns[columns[i]] = 'seen_{}'.format(i+1) \n",
    "star_wars = star_wars.rename(columns = renamed_columns)\n",
    "print(star_wars.columns[3:9])    "
   ]
  },
  {
   "cell_type": "markdown",
   "metadata": {},
   "source": [
    "### Numeric conversion of some columns\n",
    "The next six columns ask the respondent to rank the Star Wars movies in order of least favorite to most favorite. 1 means the film was the most favorite, and 6 means it was the least favorite. Each of the following columns can contain the value 1, 2, 3, 4, 5, 6, or NaN:\n",
    "\n",
    "- **Please rank the Star Wars films in order of preference with 1 being your favorite film in the franchise and 6 being your least favorite film.** - How much the respondent liked Star Wars: Episode I The Phantom Menace\n",
    "\n",
    "- **Unnamed: 10** - How much the respondent liked Star Wars: Episode II Attack of the Clones\n",
    "- **Unnamed: 11** - How much the respondent liked Star Wars: Episode III Revenge of the Sith\n",
    "- **Unnamed: 12** - How much the respondent liked Star Wars: Episode IV A New Hope\n",
    "- **Unnamed: 13** - How much the respondent liked Star Wars: Episode V The Empire Strikes Back\n",
    "- **Unnamed: 14** - How much the respondent liked Star Wars: Episode VI Return of the Jedi\n",
    "\n",
    "We need to change the column types to float and their names to something easier."
   ]
  },
  {
   "cell_type": "code",
   "execution_count": 6,
   "metadata": {},
   "outputs": [
    {
     "name": "stdout",
     "output_type": "stream",
     "text": [
      "Index(['ranking_1', 'ranking_2', 'ranking_3', 'ranking_4', 'ranking_5',\n",
      "       'ranking_6'],\n",
      "      dtype='object')\n"
     ]
    }
   ],
   "source": [
    "columns = star_wars.columns[9:15]\n",
    "#Convert to float\n",
    "star_wars[columns] = star_wars[columns].astype(float)\n",
    "\n",
    "#Rename the columns' names\n",
    "renamed_columns = {}\n",
    "for i in range(6):\n",
    "    renamed_columns[columns[i]] = 'ranking_{}'.format(i+1) \n",
    "star_wars = star_wars.rename(columns = renamed_columns)\n",
    "print(star_wars.columns[9:15])  "
   ]
  },
  {
   "cell_type": "markdown",
   "metadata": {},
   "source": [
    "## Analysis\n",
    "Since cleaning up data is done, Let's start analysis.\n",
    "\n",
    "### Ranking\n",
    "We have the ranking data for each movie so it is time to find the most favorite movie. "
   ]
  },
  {
   "cell_type": "code",
   "execution_count": 7,
   "metadata": {},
   "outputs": [
    {
     "data": {
      "text/plain": [
       "Text(0.5, 1.0, 'Ranking for each movie')"
      ]
     },
     "execution_count": 7,
     "metadata": {},
     "output_type": "execute_result"
    },
    {
     "data": {
      "image/png": "[encoded data removed]",
      "text/plain": [
       "<Figure size 432x288 with 1 Axes>"
      ]
     },
     "metadata": {
      "needs_background": "light"
     },
     "output_type": "display_data"
    }
   ],
   "source": [
    "rankings = star_wars.iloc[:,9:15]\n",
    "ranking_means = rankings.mean()\n",
    "%matplotlib inline\n",
    "ax = ranking_means.plot.bar()\n",
    "ax.set_title('Ranking for each movie', fontdict={'fontsize':20})\n",
    "\n"
   ]
  },
  {
   "cell_type": "markdown",
   "metadata": {
    "collapsed": true
   },
   "source": [
    "The most favorite movie is the fifth movie which is called **Star Wars: Episode V The Empire Strikes Back**. The star wars episode 6 and 4 are the most favorite after Episode 5. The third episode is the least favorite one."
   ]
  },
  {
   "cell_type": "markdown",
   "metadata": {},
   "source": [
    "### The number of views\n",
    "We cleaned up the seen columns and converted their values to the Boolean type. Now we can figure out how many people have seen each moviie."
   ]
  },
  {
   "cell_type": "code",
   "execution_count": 8,
   "metadata": {},
   "outputs": [
    {
     "data": {
      "text/plain": [
       "Text(0.5, 1.0, 'Number of seen for each movie')"
      ]
     },
     "execution_count": 8,
     "metadata": {},
     "output_type": "execute_result"
    },
    {
     "data": {
      "image/png": "[encoded data removed]",
      "text/plain": [
       "<Figure size 432x288 with 1 Axes>"
      ]
     },
     "metadata": {
      "needs_background": "light"
     },
     "output_type": "display_data"
    }
   ],
   "source": [
    "seens = star_wars.iloc[:,3:9]\n",
    "seens_sum = seens.sum()\n",
    "ax = seens_sum.plot.bar()\n",
    "ax.set_title('Number of seen for each movie', fontdict={'fontsize':20})"
   ]
  },
  {
   "cell_type": "markdown",
   "metadata": {},
   "source": [
    "The highest number of seen goes to Episode 5. Episode 6 attracts the highest number of watching after episode 5 and then it is Episode 1.\n",
    "\n",
    "The above plots show that movies with low rankings which mean high favorite attract more views which is reasonable. They also show that after the first episode which has a good number of views and low ranking, the popularity went down in Episode 2 and 3 but it came back up in Episode 4 and reached the highest popularity in episode 5 but decreased a little again in Episode 6."
   ]
  },
  {
   "cell_type": "markdown",
   "metadata": {},
   "source": [
    "### Segment data to groups\n",
    " There are several columns that segment our data into two groups. Here are a few examples:\n",
    "\n",
    "- **Do you consider yourself to be a fan of the Star Wars film franchise?** - True or False\n",
    "- **Do you consider yourself to be a fan of the Star Trek franchise?** - Yes or No\n",
    "- **Gender** - Male or Female\n",
    "\n",
    "We are going to split the dataframe into two groups using the above columns separately and then find the most favorite, and the most seen movie for each subset.\n",
    "\n",
    "### Gender"
   ]
  },
  {
   "cell_type": "code",
   "execution_count": 9,
   "metadata": {},
   "outputs": [
    {
     "data": {
      "image/png": "[encoded data removed]",
      "text/plain": [
       "<Figure size 432x288 with 1 Axes>"
      ]
     },
     "metadata": {
      "needs_background": "light"
     },
     "output_type": "display_data"
    },
    {
     "data": {
      "image/png": "[encoded data removed]",
      "text/plain": [
       "<Figure size 432x288 with 1 Axes>"
      ]
     },
     "metadata": {
      "needs_background": "light"
     },
     "output_type": "display_data"
    }
   ],
   "source": [
    "males = star_wars[star_wars[\"Gender\"] == \"Male\"]\n",
    "females = star_wars[star_wars[\"Gender\"] == \"Female\"]\n",
    "\n",
    "import matplotlib.pyplot as plt\n",
    "from numpy import arange\n",
    "\n",
    "# This function receives two series as imputs and \n",
    "# draw bar chart for both in the same plot.\n",
    "def bar_chart(s1, s2, yLabel, ylim, title, legend1, legend2):    \n",
    "    fig, ax = plt.subplots()\n",
    "    width = 0.35\n",
    "    ind = arange(6)\n",
    "    b1 = ax.bar(ind, s1, width, color='blue')\n",
    "    b2 = ax.bar(ind+width, s2, width, color = 'red')\n",
    "\n",
    "    # axes and labels\n",
    "    ax.set_xlim(-width,len(ind)+width)\n",
    "    ax.set_ylim(0,ylim)\n",
    "    ax.set_ylabel(yLabel)\n",
    "    ax.set_title(title, fontdict={'fontsize':20})\n",
    "    xTickMarks = s1.index\n",
    "    ax.set_xticks(ind+width)\n",
    "    xtickNames = ax.set_xticklabels(xTickMarks)\n",
    "    plt.setp(xtickNames, rotation=45, fontsize=10)\n",
    "\n",
    "    ## add a legend\n",
    "    ax.legend( (b1[0], b2[0]), (legend1, legend2) )\n",
    "    plt.show()\n",
    "    \n",
    "#Draw Ranking by Gender bar chart\n",
    "bar_chart(males.iloc[:,9:15].mean(), females.iloc[:,9:15].mean(),\n",
    "         'Ranking',6, 'Ranking by Gender', 'Men', 'Women')\n",
    "#Draw Number of Views bar chart\n",
    "bar_chart(males.iloc[:,3:9].sum(),females.iloc[:,3:9].sum(),\n",
    "         'Number of Views', 500, 'Number of Views by Gender', 'Men', 'Women')\n"
   ]
  },
  {
   "cell_type": "markdown",
   "metadata": {},
   "source": [
    "The above bar charts demonstrate the following results with this note that lower rank means higher favorite:\n",
    "\n",
    "1. The most favorite movie in both genders is Episode 5 and the highest number of views in both genders is Episode 5.\n",
    "2. Women's views are less than men for all movies but with the same ratio.\n",
    "3. The average rank that women have given to the first two episodes is less than the rank of men but from Episode 3, women's ranks are more than men's.\n",
    "4. Each movie with a larger number of views has less rank in both genders."
   ]
  },
  {
   "cell_type": "markdown",
   "metadata": {},
   "source": [
    "### Fan of the Star Wars film franchise\n",
    "We are going to draw similar charts for fans and not-fans of star wars movies."
   ]
  },
  {
   "cell_type": "code",
   "execution_count": 10,
   "metadata": {},
   "outputs": [
    {
     "data": {
      "image/png": "[encoded data removed]",
      "text/plain": [
       "<Figure size 432x288 with 1 Axes>"
      ]
     },
     "metadata": {
      "needs_background": "light"
     },
     "output_type": "display_data"
    },
    {
     "data": {
      "image/png": "[encoded data removed]",
      "text/plain": [
       "<Figure size 432x288 with 1 Axes>"
      ]
     },
     "metadata": {
      "needs_background": "light"
     },
     "output_type": "display_data"
    }
   ],
   "source": [
    "fan_sta_wars_col = 'Do you consider yourself to be a fan of the Star Wars film franchise?'\n",
    "fan_star_wars = star_wars[star_wars[fan_sta_wars_col] == True]\n",
    "not_fan_star_wars = star_wars[star_wars[fan_sta_wars_col] == False]\n",
    "\n",
    "#Draw Ranking by fans of star wars\n",
    "bar_chart(fan_star_wars.iloc[:,9:15].mean(), not_fan_star_wars.iloc[:,9:15].mean(),\n",
    "         'Ranking',6, 'Ranking by fans of star wars', 'Fan', 'Not fan')\n",
    "#Draw Number of Views by fans of star wars bar chart\n",
    "bar_chart(fan_star_wars.iloc[:,3:9].sum(), not_fan_star_wars.iloc[:,3:9].sum(),\n",
    "         'Number of Views', 700, 'Number of Views by fans of star wars', 'Fan', 'Not fan')"
   ]
  },
  {
   "cell_type": "markdown",
   "metadata": {},
   "source": [
    "Looking at the above charts we find out:\n",
    "\n",
    "1. Fans apparently see the movies much more than not-fans but not-fans ranked lower in the first three episodes. It may indicate that the filmmakers have made lots of changes from the first three episodes that were more attractive for fans.\n",
    "2. The lowest rank and most views are in Episode 5 for fans and not-fans.\n",
    "3. For fans of start wars, the number of views of Episode 6 and 5 are the same."
   ]
  },
  {
   "cell_type": "markdown",
   "metadata": {},
   "source": [
    "### Fan of the Star Trek franchise\n",
    "\n",
    "We are going to go through the same analysis based on being the fan or not-fan of Star Trek.Star Trek is an American media franchise based on the science fiction television series created by Gene Roddenberry."
   ]
  },
  {
   "cell_type": "code",
   "execution_count": 11,
   "metadata": {},
   "outputs": [
    {
     "data": {
      "image/png": "[encoded data removed]",
      "text/plain": [
       "<Figure size 432x288 with 1 Axes>"
      ]
     },
     "metadata": {
      "needs_background": "light"
     },
     "output_type": "display_data"
    },
    {
     "data": {
      "image/png": "[encoded data removed]",
      "text/plain": [
       "<Figure size 432x288 with 1 Axes>"
      ]
     },
     "metadata": {
      "needs_background": "light"
     },
     "output_type": "display_data"
    }
   ],
   "source": [
    "fan_star_trek_col = 'Do you consider yourself to be a fan of the Star Trek franchise?'\n",
    "fan_star_trek = star_wars[star_wars[fan_star_trek_col] == 'Yes']\n",
    "not_fan_star_trek = star_wars[star_wars[fan_star_trek_col] == 'No']\n",
    "\n",
    "#Draw Ranking by fans of star wars\n",
    "bar_chart(fan_star_trek.iloc[:,9:15].mean(), not_fan_star_trek.iloc[:,9:15].mean(),\n",
    "         'Ranking',6, 'Ranking by fans of star trek', 'Fan', 'Not fan')\n",
    "#Draw Number of Views by fans of star trek bar chart\n",
    "bar_chart(fan_star_trek.iloc[:,3:9].sum(), not_fan_star_trek.iloc[:,3:9].sum(),\n",
    "         'Number of Views', 550, 'Number of Views by fans of star trek', 'Fan', 'Not fan')"
   ]
  },
  {
   "cell_type": "markdown",
   "metadata": {},
   "source": [
    "The difference between the views of the fans of trek and not-fans is much less than the fans and not-fans of star wars. The lowest rank is still Episode 5 and the highest number of views is for Episode 5."
   ]
  },
  {
   "cell_type": "markdown",
   "metadata": {},
   "source": [
    "## Education\n",
    "Let's see the values of the Education column and then try to draw the same charts based on Education."
   ]
  },
  {
   "cell_type": "code",
   "execution_count": 12,
   "metadata": {},
   "outputs": [
    {
     "data": {
      "text/plain": [
       "Some college or Associate degree    328\n",
       "Bachelor degree                     321\n",
       "Graduate degree                     275\n",
       "NaN                                 150\n",
       "High school degree                  105\n",
       "Less than high school degree          7\n",
       "Name: Education, dtype: int64"
      ]
     },
     "execution_count": 12,
     "metadata": {},
     "output_type": "execute_result"
    }
   ],
   "source": [
    "star_wars['Education'].value_counts(dropna = False)"
   ]
  },
  {
   "cell_type": "markdown",
   "metadata": {},
   "source": [
    "There are five categories in the Education column. It is required to contact the ranking columns to be able to use the seaborn bar plot and show all categories in the same bar plot."
   ]
  },
  {
   "cell_type": "code",
   "execution_count": 13,
   "metadata": {
    "scrolled": true
   },
   "outputs": [
    {
     "name": "stdout",
     "output_type": "stream",
     "text": [
      "                          Education      mean    ranking\n",
      "0                   Bachelor degree  3.828244  ranking_1\n",
      "1                   Graduate degree  3.822222  ranking_1\n",
      "2                High school degree  3.802817  ranking_1\n",
      "3      Less than high school degree  5.000000  ranking_1\n",
      "4  Some college or Associate degree  3.551181  ranking_1\n",
      "0                   Bachelor degree  4.290076  ranking_2\n",
      "1                   Graduate degree  4.225664  ranking_2\n",
      "2                High school degree  3.746479  ranking_2\n",
      "3      Less than high school degree  5.333333  ranking_2\n",
      "4  Some college or Associate degree  3.885827  ranking_2\n",
      "0                   Bachelor degree  4.521073  ranking_3\n",
      "1                   Graduate degree  4.500000  ranking_3\n",
      "2                High school degree  4.126761  ranking_3\n",
      "3      Less than high school degree  3.666667  ranking_3\n",
      "4  Some college or Associate degree  4.102362  ranking_3\n",
      "0                   Bachelor degree  3.114504  ranking_4\n",
      "1                   Graduate degree  3.199115  ranking_4\n",
      "2                High school degree  3.211268  ranking_4\n",
      "3      Less than high school degree  2.666667  ranking_4\n",
      "4  Some college or Associate degree  3.503937  ranking_4\n",
      "0                   Bachelor degree  2.309160  ranking_5\n",
      "1                   Graduate degree  2.323009  ranking_5\n",
      "2                High school degree  2.873239  ranking_5\n",
      "3      Less than high school degree  1.000000  ranking_5\n",
      "4  Some college or Associate degree  2.783465  ranking_5\n",
      "0                   Bachelor degree  2.931298  ranking_6\n",
      "1                   Graduate degree  2.920354  ranking_6\n",
      "2                High school degree  3.239437  ranking_6\n",
      "3      Less than high school degree  3.333333  ranking_6\n",
      "4  Some college or Associate degree  3.173228  ranking_6\n"
     ]
    }
   ],
   "source": [
    "import warnings\n",
    "warnings.filterwarnings(\"ignore\", category=FutureWarning)\n",
    "\n",
    "def concat_columns(df, group_col, agg_func, result_col):\n",
    "    rank_col_names = df.columns\n",
    "    grouped_education = star_wars.groupby(group_col)[rank_col_names].agg(agg_func)\n",
    "    grouped_education.reset_index(inplace=True)\n",
    "\n",
    "    # print(grouped_education)\n",
    "    # print('\\n ******************')\n",
    "    r = pd.DataFrame()\n",
    "\n",
    "    for col in rank_col_names:\n",
    "        rt = grouped_education[[group_col, col]]\n",
    "\n",
    "        rt = rt.rename(columns={col: agg_func}).copy()\n",
    "        rt[result_col] = col\n",
    "        if r.empty == True:\n",
    "            r = rt\n",
    "        else:\n",
    "            r = pd.concat([r, rt])\n",
    "    return r\n",
    "r = concat_columns(star_wars.iloc[:,9:15], 'Education', 'mean', 'ranking')\n",
    "print(r)\n"
   ]
  },
  {
   "cell_type": "markdown",
   "metadata": {},
   "source": [
    "The above result shows the result of concating, now we can use the result to draw the seaborn bar plot."
   ]
  },
  {
   "cell_type": "code",
   "execution_count": 14,
   "metadata": {
    "scrolled": true
   },
   "outputs": [
    {
     "data": {
      "text/plain": [
       "Text(0.5, 1.0, 'Ranking by Education')"
      ]
     },
     "execution_count": 14,
     "metadata": {},
     "output_type": "execute_result"
    },
    {
     "data": {
      "image/png": "[encoded data removed]",
      "text/plain": [
       "<Figure size 432x288 with 1 Axes>"
      ]
     },
     "metadata": {
      "needs_background": "light"
     },
     "output_type": "display_data"
    }
   ],
   "source": [
    "import seaborn as sns\n",
    "ax = sns.barplot(x=\"ranking\", hue=\"Education\", y=\"mean\", data=r)\n",
    "ax.set_ylabel(\"\")\n",
    "ax.set_xlabel(\"\")\n",
    "plt.legend(bbox_to_anchor=(1.04,1), borderaxespad=0)\n",
    "ax.set_title('Ranking by Education', fontdict={'fontsize':20})"
   ]
  },
  {
   "cell_type": "markdown",
   "metadata": {},
   "source": [
    "The plot shows:\n",
    "\n",
    "1. The lowest rank which means the most favorite movie is Episode 5 in all degrees.\n",
    "2. Respondents with Less than high school degrees rank the first two episodes higher than the other episodes. The rest of degrees ranked the Episode 3 higher than the others. It seems the ranking of Less than high school degree varies a lot than the other degrees.\n",
    "3. The ranks of Bachelor and Graduate students are very close to each other. The rank of high school and college students are also similar.\n",
    "4. The bachelor and graduate degrees ranked the last three Episodes lower than High school and college degrees but vice versa in the first three Episode."
   ]
  },
  {
   "cell_type": "code",
   "execution_count": 15,
   "metadata": {},
   "outputs": [
    {
     "name": "stdout",
     "output_type": "stream",
     "text": [
      "                          Education    sum    seen\n",
      "0                   Bachelor degree  206.0  seen_1\n",
      "1                   Graduate degree  179.0  seen_1\n",
      "2                High school degree   57.0  seen_1\n",
      "3      Less than high school degree    3.0  seen_1\n",
      "4  Some college or Associate degree  211.0  seen_1\n",
      "0                   Bachelor degree  170.0  seen_2\n",
      "1                   Graduate degree  149.0  seen_2\n",
      "2                High school degree   48.0  seen_2\n",
      "3      Less than high school degree    3.0  seen_2\n",
      "4  Some college or Associate degree  186.0  seen_2\n",
      "0                   Bachelor degree  163.0  seen_3\n",
      "1                   Graduate degree  139.0  seen_3\n",
      "2                High school degree   48.0  seen_3\n",
      "3      Less than high school degree    3.0  seen_3\n",
      "4  Some college or Associate degree  183.0  seen_3\n",
      "0                   Bachelor degree  195.0  seen_4\n",
      "1                   Graduate degree  163.0  seen_4\n",
      "2                High school degree   53.0  seen_4\n",
      "3      Less than high school degree    3.0  seen_4\n",
      "4  Some college or Associate degree  180.0  seen_4\n",
      "0                   Bachelor degree  243.0  seen_5\n",
      "1                   Graduate degree  207.0  seen_5\n",
      "2                High school degree   61.0  seen_5\n",
      "3      Less than high school degree    3.0  seen_5\n",
      "4  Some college or Associate degree  227.0  seen_5\n",
      "0                   Bachelor degree  234.0  seen_6\n",
      "1                   Graduate degree  201.0  seen_6\n",
      "2                High school degree   60.0  seen_6\n",
      "3      Less than high school degree    3.0  seen_6\n",
      "4  Some college or Associate degree  223.0  seen_6\n"
     ]
    }
   ],
   "source": [
    "r = concat_columns(star_wars.iloc[:,3:9], 'Education', 'sum', 'seen')\n",
    "print(r)"
   ]
  },
  {
   "cell_type": "code",
   "execution_count": 16,
   "metadata": {
    "scrolled": true
   },
   "outputs": [
    {
     "data": {
      "text/plain": [
       "Text(0.5, 1.0, 'Number of Views by Education')"
      ]
     },
     "execution_count": 16,
     "metadata": {},
     "output_type": "execute_result"
    },
    {
     "data": {
      "image/png": "[encoded data removed]",
      "text/plain": [
       "<Figure size 432x288 with 1 Axes>"
      ]
     },
     "metadata": {
      "needs_background": "light"
     },
     "output_type": "display_data"
    }
   ],
   "source": [
    "ax = sns.barplot(x=\"seen\", hue=\"Education\", y=\"sum\", data=r)\n",
    "ax.set_ylabel(\"\")\n",
    "ax.set_xlabel(\"\")\n",
    "plt.legend(bbox_to_anchor=(1.04,1), borderaxespad=0)\n",
    "#ax.set_ylim(0, 370)\n",
    "ax.set_title('Number of Views by Education', fontdict={'fontsize':20})"
   ]
  },
  {
   "cell_type": "markdown",
   "metadata": {},
   "source": [
    "The above plot shows that:\n",
    "\n",
    "1. the number of views in Episode 5 is more than the others. \n",
    "2. The most views in the first three episodes is for college degrees but in the last three episodes, it is for bachelor students.\n",
    "3. The least views are for less than high school degree \n",
    "4. Since the number of views for Less than High school is too low, maybe the data about the ranking for this degree is not reliable."
   ]
  },
  {
   "cell_type": "markdown",
   "metadata": {},
   "source": [
    "## Location (Census Region)\n",
    "It is helful to see how respondents fron different locations may have different ideas about the movies."
   ]
  },
  {
   "cell_type": "code",
   "execution_count": 17,
   "metadata": {},
   "outputs": [
    {
     "data": {
      "text/plain": [
       "East North Central    181\n",
       "Pacific               175\n",
       "South Atlantic        170\n",
       "NaN                   143\n",
       "Middle Atlantic       122\n",
       "West South Central    110\n",
       "West North Central     93\n",
       "Mountain               79\n",
       "New England            75\n",
       "East South Central     38\n",
       "Name: Location (Census Region), dtype: int64"
      ]
     },
     "execution_count": 17,
     "metadata": {},
     "output_type": "execute_result"
    }
   ],
   "source": [
    "star_wars['Location (Census Region)'].value_counts(dropna = False)"
   ]
  },
  {
   "cell_type": "code",
   "execution_count": 18,
   "metadata": {},
   "outputs": [
    {
     "data": {
      "text/plain": [
       "Text(0.5, 1.0, 'Ranking by Location')"
      ]
     },
     "execution_count": 18,
     "metadata": {},
     "output_type": "execute_result"
    },
    {
     "data": {
      "image/png": "[encoded data removed]",
      "text/plain": [
       "<Figure size 432x288 with 1 Axes>"
      ]
     },
     "metadata": {
      "needs_background": "light"
     },
     "output_type": "display_data"
    }
   ],
   "source": [
    "r = concat_columns(star_wars.iloc[:,9:15], 'Location (Census Region)', 'mean', 'ranking')\n",
    "ax = sns.barplot(x=\"ranking\", hue=\"Location (Census Region)\", y=\"mean\", data=r)\n",
    "ax.set_ylabel(\"\")\n",
    "ax.set_xlabel(\"\")\n",
    "plt.legend(bbox_to_anchor=(1.04,1), borderaxespad=0)\n",
    "ax.set_title('Ranking by Location', fontdict={'fontsize':20})"
   ]
  },
  {
   "cell_type": "code",
   "execution_count": 19,
   "metadata": {
    "scrolled": true
   },
   "outputs": [
    {
     "data": {
      "text/plain": [
       "Text(0.5, 1.0, 'Number of Views by Location')"
      ]
     },
     "execution_count": 19,
     "metadata": {},
     "output_type": "execute_result"
    },
    {
     "data": {
      "image/png": "[encoded data removed]",
      "text/plain": [
       "<Figure size 432x288 with 1 Axes>"
      ]
     },
     "metadata": {
      "needs_background": "light"
     },
     "output_type": "display_data"
    }
   ],
   "source": [
    "r = concat_columns(star_wars.iloc[:,3:9], 'Location (Census Region)', 'sum', 'seen')\n",
    "ax = sns.barplot(x=\"seen\", hue=\"Location (Census Region)\", y=\"sum\", data=r)\n",
    "ax.set_ylabel(\"\")\n",
    "ax.set_xlabel(\"\")\n",
    "plt.legend(bbox_to_anchor=(1.04,1), borderaxespad=0)\n",
    "ax.set_title('Number of Views by Location', fontdict={'fontsize':20})"
   ]
  },
  {
   "cell_type": "markdown",
   "metadata": {},
   "source": [
    "1. The highest number of views are in East North Central, South Atlantic, and Pacific. \n",
    "2. The least number of views is in East South Central.\n",
    "3. While the number of views varies a lot in different locations, ranking is mostly close to each other and the lowest rank is in Episode 5."
   ]
  },
  {
   "cell_type": "markdown",
   "metadata": {},
   "source": [
    "## Which character shot first?\n",
    "Acconring to this [reference](https://en.wikipedia.org/wiki/Han_shot_first#:~:text=%22Han%20shot%20first%22%20refers%20to,scene%2C%20Han%20shoots%20Greedo%20dead.) of Wikipedia. this question refers to a controversial change made to a scene in the science fiction action film Star Wars (1977), in which Han Solo (Harrison Ford) is confronted by the bounty hunter Greedo (Paul Blake) in the Mos Eisley cantina. In the original version of the scene, Han shoots Greedo dead. Later versions are edited so that Greedo attempts to fire at Han first. Director George Lucas altered the scene to give Solo more justification for acting in self-defense. Many fans and commentators oppose the change, feeling it weakens Solo's character. The controversy is referenced in the 2018 film Solo: A Star Wars Story.\n",
    "\n",
    "According to what does the respondent answers this question, we are going to figure out the most favorite movie and the movie with the highest number of views."
   ]
  },
  {
   "cell_type": "code",
   "execution_count": 20,
   "metadata": {
    "scrolled": true
   },
   "outputs": [
    {
     "data": {
      "text/plain": [
       "NaN                                 358\n",
       "Han                                 325\n",
       "I don't understand this question    306\n",
       "Greedo                              197\n",
       "Name: Which character shot first?, dtype: int64"
      ]
     },
     "execution_count": 20,
     "metadata": {},
     "output_type": "execute_result"
    }
   ],
   "source": [
    "star_wars['Which character shot first?'].value_counts(dropna = False)"
   ]
  },
  {
   "cell_type": "code",
   "execution_count": 21,
   "metadata": {
    "scrolled": true
   },
   "outputs": [
    {
     "data": {
      "text/plain": [
       "Text(0.5, 1.0, 'Ranking by character')"
      ]
     },
     "execution_count": 21,
     "metadata": {},
     "output_type": "execute_result"
    },
    {
     "data": {
      "image/png": "[encoded data removed]",
      "text/plain": [
       "<Figure size 432x288 with 1 Axes>"
      ]
     },
     "metadata": {
      "needs_background": "light"
     },
     "output_type": "display_data"
    }
   ],
   "source": [
    "r = concat_columns(star_wars.iloc[:,9:15], 'Which character shot first?', 'mean', 'ranking')\n",
    "ax = sns.barplot(x=\"ranking\", hue=\"Which character shot first?\", y=\"mean\", data=r)\n",
    "ax.set_ylabel(\"\")\n",
    "ax.set_xlabel(\"\")\n",
    "ax.set_ylim(0,6.5)\n",
    "ax.set_title('Ranking by character', fontdict={'fontsize':20})"
   ]
  },
  {
   "cell_type": "code",
   "execution_count": 22,
   "metadata": {
    "scrolled": true
   },
   "outputs": [
    {
     "data": {
      "text/plain": [
       "Text(0.5, 1.0, 'Number of Views by Charecter')"
      ]
     },
     "execution_count": 22,
     "metadata": {},
     "output_type": "execute_result"
    },
    {
     "data": {
      "image/png": "[encoded data removed]",
      "text/plain": [
       "<Figure size 432x288 with 1 Axes>"
      ]
     },
     "metadata": {
      "needs_background": "light"
     },
     "output_type": "display_data"
    }
   ],
   "source": [
    "r = concat_columns(star_wars.iloc[:,3:9], 'Which character shot first?', 'sum', 'seen')\n",
    "#fig, ax = plt.subplots(figsize=(12, 8))\n",
    "ax = sns.barplot(x=\"seen\", hue=\"Which character shot first?\", y=\"sum\", data=r)\n",
    "ax.set_ylabel(\"\")\n",
    "ax.set_xlabel(\"\")\n",
    "ax.set_ylim(0, 470)\n",
    "ax.set_title('Number of Views by Charecter', fontdict={'fontsize':20})"
   ]
  },
  {
   "cell_type": "markdown",
   "metadata": {},
   "source": [
    "Those who say that Han shot first apparently have significantly more views and lower rank than the others.\n",
    "Except for two first Episodes, In the Other Episodes those who says Han shot first ranked the episodes lower\n",
    "Comparing these plots with the plots for fans and not-fans of star wars it seems that the ranking and the number of views of those who don't understand the meaning of the question are similar to the not-fans of start wars. So we can conclude that most of the fans of star wars think Han shot first."
   ]
  },
  {
   "cell_type": "markdown",
   "metadata": {},
   "source": [
    "## Favorable characters\n",
    "It is a good idea to clean up columns 15 to 29 to find the answers to the following questions:\n",
    "\n",
    "- Which character do respondents like the most?\n",
    "- Which character do respondents dislike the most?\n",
    "- Which character is the most controversial (split between likes and dislikes)?\n",
    "\n",
    "Let's look at the columns' names:"
   ]
  },
  {
   "cell_type": "code",
   "execution_count": 23,
   "metadata": {},
   "outputs": [
    {
     "name": "stdout",
     "output_type": "stream",
     "text": [
      "Index(['Please state whether you view the following characters favorably, unfavorably, or are unfamiliar with him/her.',\n",
      "       'Unnamed: 16', 'Unnamed: 17', 'Unnamed: 18', 'Unnamed: 19',\n",
      "       'Unnamed: 20', 'Unnamed: 21', 'Unnamed: 22', 'Unnamed: 23',\n",
      "       'Unnamed: 24', 'Unnamed: 25', 'Unnamed: 26', 'Unnamed: 27',\n",
      "       'Unnamed: 28'],\n",
      "      dtype='object')\n"
     ]
    }
   ],
   "source": [
    "print(star_wars.iloc[:,15:29].columns)"
   ]
  },
  {
   "cell_type": "markdown",
   "metadata": {},
   "source": [
    "The Unnamed columns refer to the following characters:\n",
    "\n",
    "- **Please state whether you view the following characters favorably, unfavorably, or are unfamiliar with him/her.**: Han Solo\n",
    "- **Unnamed: 16**: Luke Skywalker\n",
    "- **Unnamed: 17**: Princess Leia Organa\n",
    "- **Unnamed: 18**: Anakin Skywalker\n",
    "- **Unnamed: 19**: Obi Wan Kenobi\n",
    "- **Unnamed: 20**: Emperor Palpatine\n",
    "- **Unnamed: 21**: Darth Vader\n",
    "- **Unnamed: 22**: Lando Calrissian\n",
    "- **Unnamed: 23**: Boba Fett\n",
    "- **Unnamed: 24**: C-3P0\n",
    "- **Unnamed: 25**: R2 D2\n",
    "- **Unnamed: 26**: Jar Jar Binks\n",
    "- **Unnamed: 27**: Padme Amidala\n",
    "- **Unnamed: 28**: Yoda"
   ]
  },
  {
   "cell_type": "markdown",
   "metadata": {},
   "source": [
    "Let's look at the data of these columns."
   ]
  },
  {
   "cell_type": "code",
   "execution_count": 24,
   "metadata": {},
   "outputs": [
    {
     "data": {
      "text/plain": [
       "Very favorably                                 610\n",
       "NaN                                            357\n",
       "Somewhat favorably                             151\n",
       "Neither favorably nor unfavorably (neutral)     44\n",
       "Unfamiliar (N/A)                                15\n",
       "Somewhat unfavorably                             8\n",
       "Very unfavorably                                 1\n",
       "Name: Please state whether you view the following characters favorably, unfavorably, or are unfamiliar with him/her., dtype: int64"
      ]
     },
     "execution_count": 24,
     "metadata": {},
     "output_type": "execute_result"
    }
   ],
   "source": [
    "star_wars.iloc[:,15].value_counts(dropna = False)"
   ]
  },
  {
   "cell_type": "markdown",
   "metadata": {},
   "source": [
    "All of the columns have similar data. We are going to map the values to like, dislike, and controversial, using the following map instruction:\n",
    "\n",
    "- Very favorably -> like\n",
    "- Somewhat favorably -> like\n",
    "- Neither favorably nor unfavorably (neutral) -> controversial\n",
    "- Somewhat unfavorably -> dislike\n",
    "- Very unfavorably -> dislike\n",
    "- Unfamiliar (N/A) -> Nan"
   ]
  },
  {
   "cell_type": "code",
   "execution_count": 25,
   "metadata": {},
   "outputs": [],
   "source": [
    "def cat_like(item):\n",
    "    if type(item) == float:\n",
    "        item = str(item)\n",
    "    item = item.strip()\n",
    "    if item =='Unfamiliar (N/A)':\n",
    "        return np.nan\n",
    "    elif (item == 'Very favorably' or item == 'Somewhat favorably'):\n",
    "        return 'like'\n",
    "    elif (item == 'Very unfavorably' or item == 'Somewhat unfavorably'):\n",
    "        return 'dislike'\n",
    "    elif item == 'nan':\n",
    "        return np.nan\n",
    "    else:\n",
    "        return 'controversial'\n",
    "star_wars.iloc[:,15:30] = star_wars.iloc[:,15:30].applymap(cat_like)"
   ]
  },
  {
   "cell_type": "markdown",
   "metadata": {},
   "source": [
    "Since the column names are not so meaningful, we are going to change them to character_ and proceeds with a number. To Make it easier we are going to keep the exact number following Unnamed for that column."
   ]
  },
  {
   "cell_type": "code",
   "execution_count": 26,
   "metadata": {},
   "outputs": [
    {
     "name": "stdout",
     "output_type": "stream",
     "text": [
      "Index(['character_15', 'character_16', 'character_17', 'character_18',\n",
      "       'character_19', 'character_20', 'character_21', 'character_22',\n",
      "       'character_23', 'character_24', 'character_25', 'character_26',\n",
      "       'character_27', 'character_28'],\n",
      "      dtype='object')\n"
     ]
    }
   ],
   "source": [
    "columns = star_wars.columns[15:29]\n",
    "#Rename the columns' names\n",
    "renamed_columns = {}\n",
    "for i in range(14):\n",
    "    renamed_columns[columns[i]] = 'character_{}'.format(i+15) \n",
    "star_wars = star_wars.rename(columns = renamed_columns)\n",
    "print(star_wars.columns[15:29])"
   ]
  },
  {
   "cell_type": "markdown",
   "metadata": {},
   "source": [
    "At this step, we are going to concat the characters' columns and add an extra column containing the count of like, dislike, and controversial for each character. "
   ]
  },
  {
   "cell_type": "code",
   "execution_count": 27,
   "metadata": {
    "scrolled": true
   },
   "outputs": [
    {
     "name": "stdout",
     "output_type": "stream",
     "text": [
      "       character       cat_like  count\n",
      "0   character_15  controversial     44\n",
      "1   character_15        dislike      9\n",
      "2   character_15           like    761\n",
      "3   character_16  controversial     38\n",
      "4   character_16        dislike     16\n",
      "5   character_16           like    771\n",
      "6   character_17  controversial     48\n",
      "7   character_17        dislike     18\n",
      "8   character_17           like    757\n",
      "9   character_18  controversial    135\n",
      "10  character_18        dislike    122\n",
      "11  character_18           like    514\n",
      "12  character_19  controversial     43\n",
      "13  character_19        dislike     15\n",
      "14  character_19           like    750\n",
      "15  character_20  controversial    213\n",
      "16  character_20        dislike    192\n",
      "17  character_20           like    253\n",
      "18  character_21  controversial     84\n",
      "19  character_21        dislike    251\n",
      "20  character_21           like    481\n",
      "21  character_22  controversial    236\n",
      "22  character_22        dislike     71\n",
      "23  character_22           like    365\n",
      "24  character_23  controversial    248\n",
      "25  character_23        dislike    141\n",
      "26  character_23           like    291\n",
      "27  character_24  controversial     79\n",
      "28  character_24        dislike     30\n",
      "29  character_24           like    703\n",
      "30  character_25  controversial     57\n",
      "31  character_25        dislike     16\n",
      "32  character_25           like    747\n",
      "33  character_26  controversial    164\n",
      "34  character_26        dislike    306\n",
      "35  character_26           like    242\n",
      "36  character_27  controversial    207\n",
      "37  character_27        dislike     92\n",
      "38  character_27           like    351\n",
      "39  character_28  controversial     51\n",
      "40  character_28        dislike     16\n",
      "41  character_28           like    749\n"
     ]
    }
   ],
   "source": [
    "r = pd.DataFrame()\n",
    "\n",
    "df = star_wars.iloc[:,15:29]\n",
    "rank_col_names = df.columns\n",
    "\n",
    "for col in rank_col_names:\n",
    "    rt = pd.DataFrame()\n",
    "    rt[col] = df[col]\n",
    "    rt = rt.rename(columns={col: 'cat_like'}).copy()\n",
    "    rt['character'] = col\n",
    "    if r.empty == True:\n",
    "        r = rt\n",
    "    else:\n",
    "        r = pd.concat([r, rt])\n",
    "        \n",
    "grouped_character = r.groupby(['character', 'cat_like'])['cat_like'].agg('count')\n",
    "result = r.groupby(['character', 'cat_like']).agg('count').reset_index()\n",
    "result['count'] = grouped_character[:].values\n",
    "\n",
    "print(result)"
   ]
  },
  {
   "cell_type": "markdown",
   "metadata": {},
   "source": [
    "Now we can draw the bar chart and compare the characters."
   ]
  },
  {
   "cell_type": "code",
   "execution_count": 28,
   "metadata": {},
   "outputs": [
    {
     "data": {
      "text/plain": [
       "<matplotlib.legend.Legend at 0x2a2163c8ec8>"
      ]
     },
     "execution_count": 28,
     "metadata": {},
     "output_type": "execute_result"
    },
    {
     "data": {
      "image/png": "[encoded data removed]",
      "text/plain": [
       "<Figure size 1152x432 with 1 Axes>"
      ]
     },
     "metadata": {
      "needs_background": "light"
     },
     "output_type": "display_data"
    }
   ],
   "source": [
    "fig, ax = plt.subplots(figsize=(16, 6))\n",
    "ax = sns.barplot(x=\"character\", hue=\"cat_like\", y=\"count\", data=result)\n",
    "ax.set_ylabel(\"\")\n",
    "ax.set_xlabel(\"\")\n",
    "#ax.set_ylim(0,7)\n",
    "ax.set_title('Favorite Characters', fontdict={'fontsize':20})\n",
    "plt.xticks(rotation = 45, fontsize = 15)\n",
    "plt.legend(fontsize = 15, loc = 'upper center')\n"
   ]
  },
  {
   "cell_type": "markdown",
   "metadata": {},
   "source": [
    "- **Like**: Character 16, **Luke Skywalker** is the most favorite character. The votes for *Han Solo* and *Princess Leia Organa* are very close to Luke Skywalker but after him.\n",
    "- **Dislike**: The respondents dislike character 26, **Jar Jar Binks** the most.\n",
    "- **Controversial**: The most controversial character is character 23, **Boba Fett**."
   ]
  },
  {
   "cell_type": "markdown",
   "metadata": {
    "collapsed": true
   },
   "source": [
    "## Conclusion:\n",
    "It seems that the answer to the main question which was **does the rest of America realize that “The Empire Strikes Back” is clearly the best of the bunch?** is yes since in all the bar charts the most favorite movie and the movie with the highest number of views was Episode 5.\n",
    "These groups have the highest number of views of Episode 5 and the least ranked (Most favorite):\n",
    "\n",
    "- Women\n",
    "- Fans\n",
    "- Bachelor and Graduate degrees\n",
    "- East South Central\n",
    "- Han shot first\n",
    "\n",
    "We figured out that the most favorite character is *Luke Skywalker*. The votes for *Han Solo* and *Princess Leia Organa* are very close to Luke Skywalker. The respondents dislike *Jar Jar Binks* the most and the most controversial one is *Boba Fett*. "
   ]
  },
  {
   "cell_type": "code",
   "execution_count": null,
   "metadata": {},
   "outputs": [],
   "source": []
  }
 ],
 "metadata": {
  "kernelspec": {
   "display_name": "Python 3",
   "language": "python",
   "name": "python3"
  },
  "language_info": {
   "codemirror_mode": {
    "name": "ipython",
    "version": 3
   },
   "file_extension": ".py",
   "mimetype": "text/x-python",
   "name": "python",
   "nbconvert_exporter": "python",
   "pygments_lexer": "ipython3",
   "version": "3.7.6"
  }
 },
 "nbformat": 4,
 "nbformat_minor": 1
}
