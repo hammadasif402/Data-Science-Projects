{
 "cells": [
  {
   "cell_type": "markdown",
   "metadata": {},
   "source": [
    "# Mobile App for Lottery Addiction\n",
    "\n",
    "Many people start playing lottery and gambling for fun but it turns into a habit and finally addiction which causes losing money and eventually engaging in desperate behaviors like theft. \n",
    "\n",
    "A medical institute wants to build a mobile app to help lottery addicts better estimate their chances of winning. The institute has a team of engineers that will build the app, but they need help to create the logical core of the app and calculate probabilities.\n",
    "\n",
    "For the first version of the app, they want us to focus on the [6/49 lottery](https://en.wikipedia.org/wiki/Lotto_6/49) and build functions that enable users to answer questions like:\n",
    "\n",
    "- What is the probability of winning the big prize with a single ticket?\n",
    "- What is the probability of winning the big prize if we play 40 different tickets (or any other number)?\n",
    "- What is the probability of having at least five (or four, or three, or two) winning numbers on a single ticket?\n",
    "\n",
    "The institute also wants us to consider historical data coming from the national 6/49 lottery game in Canada. [The data set](https://www.kaggle.com/datascienceai/lottery-dataset) has data for 3,665 drawings, dating from 1982 to 2018."
   ]
  },
  {
   "cell_type": "markdown",
   "metadata": {},
   "source": [
    "## Implementing two useful functions\n",
    "\n",
    "Throughout the project, I'll need to calculate repeatedly probabilities and combinations. So I am going to start by writing two functions that I'll use often:\n",
    "\n",
    "- A function that calculates **factorials**; and\n",
    "- A function that calculates **combinations**."
   ]
  },
  {
   "cell_type": "code",
   "execution_count": 1,
   "metadata": {},
   "outputs": [],
   "source": [
    "# n! = n(n-1)(n-2)...2*1\n",
    "def factorial(n):    \n",
    "    result = 1\n",
    "    for i in range(n, 0, -1):\n",
    "        result *= i\n",
    "    return result\n",
    "\n",
    "# C(n, k) = n!/(k!*(n-k)!)\n",
    "def combinations(n,k):\n",
    "    return (factorial(n)/(factorial(k) * factorial(n-k)))"
   ]
  },
  {
   "cell_type": "markdown",
   "metadata": {},
   "source": [
    "## The probability of winning the big prize\n",
    "\n",
    "In the 6/49 lottery, six numbers are drawn from a set of 49 numbers that range from 1 to 49. A player wins the big prize if the six numbers on their tickets match all the six numbers drawn.\n",
    "\n",
    "For the version of the app, a function is needed to calculate the probability of winning the big prize. The engineering team of the institute told us to write a function with the following specifications:\n",
    "\n",
    "- Inside the app, the user inputs six different numbers from 1 to 49.\n",
    "- Under the hood, the six numbers will come as a Python list, which will serve as the single input to our function.\n",
    "- The function is requested to print the probability value in a friendly way — in a way that people without any probability training are able to understand."
   ]
  },
  {
   "cell_type": "code",
   "execution_count": 2,
   "metadata": {},
   "outputs": [
    {
     "name": "stdout",
     "output_type": "stream",
     "text": [
      "The chance to win the big prize with [13, 22, 24, 27, 42, 44] numbers is 0.0000072%.\n"
     ]
    }
   ],
   "source": [
    "def one_ticket_probability(ticket):\n",
    "    prob = (1/combinations(49, 6)) * 100\n",
    "    message = \"The chance to win the big prize with {} numbers is {:.7f}%.\"\n",
    "    print(message.format(ticket, prob))\n",
    "    return prob\n",
    "\n",
    "p = one_ticket_probability([13, 22, 24, 27, 42, 44])"
   ]
  },
  {
   "cell_type": "markdown",
   "metadata": {},
   "source": [
    "The probability to win the big prize with one ticket including 6 numbers out of 49 numbers is the same for all the ticket and very small (approximately 0)."
   ]
  },
  {
   "cell_type": "markdown",
   "metadata": {},
   "source": [
    "## Exploring the historical data\n",
    "\n",
    "I am going to explore the historical data coming from the Canada 6/49 lottery. The data set can be downloaded from [Kaggle](https://www.kaggle.com/datascienceai/lottery-dataset).\n",
    "\n",
    "Let's open this data set and get familiar with its structure"
   ]
  },
  {
   "cell_type": "code",
   "execution_count": 3,
   "metadata": {},
   "outputs": [
    {
     "data": {
      "text/plain": [
       "(3665, 11)"
      ]
     },
     "execution_count": 3,
     "metadata": {},
     "output_type": "execute_result"
    }
   ],
   "source": [
    "import pandas as pd\n",
    "data = pd.read_csv('649.csv')\n",
    "data.shape"
   ]
  },
  {
   "cell_type": "code",
   "execution_count": 4,
   "metadata": {},
   "outputs": [
    {
     "data": {
      "text/html": [
       "<div>\n",
       "<style scoped>\n",
       "    .dataframe tbody tr th:only-of-type {\n",
       "        vertical-align: middle;\n",
       "    }\n",
       "\n",
       "    .dataframe tbody tr th {\n",
       "        vertical-align: top;\n",
       "    }\n",
       "\n",
       "    .dataframe thead th {\n",
       "        text-align: right;\n",
       "    }\n",
       "</style>\n",
       "<table border=\"1\" class=\"dataframe\">\n",
       "  <thead>\n",
       "    <tr style=\"text-align: right;\">\n",
       "      <th></th>\n",
       "      <th>PRODUCT</th>\n",
       "      <th>DRAW NUMBER</th>\n",
       "      <th>SEQUENCE NUMBER</th>\n",
       "      <th>DRAW DATE</th>\n",
       "      <th>NUMBER DRAWN 1</th>\n",
       "      <th>NUMBER DRAWN 2</th>\n",
       "      <th>NUMBER DRAWN 3</th>\n",
       "      <th>NUMBER DRAWN 4</th>\n",
       "      <th>NUMBER DRAWN 5</th>\n",
       "      <th>NUMBER DRAWN 6</th>\n",
       "      <th>BONUS NUMBER</th>\n",
       "    </tr>\n",
       "  </thead>\n",
       "  <tbody>\n",
       "    <tr>\n",
       "      <th>0</th>\n",
       "      <td>649</td>\n",
       "      <td>1</td>\n",
       "      <td>0</td>\n",
       "      <td>6/12/1982</td>\n",
       "      <td>3</td>\n",
       "      <td>11</td>\n",
       "      <td>12</td>\n",
       "      <td>14</td>\n",
       "      <td>41</td>\n",
       "      <td>43</td>\n",
       "      <td>13</td>\n",
       "    </tr>\n",
       "    <tr>\n",
       "      <th>1</th>\n",
       "      <td>649</td>\n",
       "      <td>2</td>\n",
       "      <td>0</td>\n",
       "      <td>6/19/1982</td>\n",
       "      <td>8</td>\n",
       "      <td>33</td>\n",
       "      <td>36</td>\n",
       "      <td>37</td>\n",
       "      <td>39</td>\n",
       "      <td>41</td>\n",
       "      <td>9</td>\n",
       "    </tr>\n",
       "    <tr>\n",
       "      <th>2</th>\n",
       "      <td>649</td>\n",
       "      <td>3</td>\n",
       "      <td>0</td>\n",
       "      <td>6/26/1982</td>\n",
       "      <td>1</td>\n",
       "      <td>6</td>\n",
       "      <td>23</td>\n",
       "      <td>24</td>\n",
       "      <td>27</td>\n",
       "      <td>39</td>\n",
       "      <td>34</td>\n",
       "    </tr>\n",
       "  </tbody>\n",
       "</table>\n",
       "</div>"
      ],
      "text/plain": [
       "   PRODUCT  DRAW NUMBER  SEQUENCE NUMBER  DRAW DATE  NUMBER DRAWN 1  \\\n",
       "0      649            1                0  6/12/1982               3   \n",
       "1      649            2                0  6/19/1982               8   \n",
       "2      649            3                0  6/26/1982               1   \n",
       "\n",
       "   NUMBER DRAWN 2  NUMBER DRAWN 3  NUMBER DRAWN 4  NUMBER DRAWN 5  \\\n",
       "0              11              12              14              41   \n",
       "1              33              36              37              39   \n",
       "2               6              23              24              27   \n",
       "\n",
       "   NUMBER DRAWN 6  BONUS NUMBER  \n",
       "0              43            13  \n",
       "1              41             9  \n",
       "2              39            34  "
      ]
     },
     "execution_count": 4,
     "metadata": {},
     "output_type": "execute_result"
    }
   ],
   "source": [
    "data.head(3)"
   ]
  },
  {
   "cell_type": "code",
   "execution_count": 5,
   "metadata": {},
   "outputs": [
    {
     "data": {
      "text/html": [
       "<div>\n",
       "<style scoped>\n",
       "    .dataframe tbody tr th:only-of-type {\n",
       "        vertical-align: middle;\n",
       "    }\n",
       "\n",
       "    .dataframe tbody tr th {\n",
       "        vertical-align: top;\n",
       "    }\n",
       "\n",
       "    .dataframe thead th {\n",
       "        text-align: right;\n",
       "    }\n",
       "</style>\n",
       "<table border=\"1\" class=\"dataframe\">\n",
       "  <thead>\n",
       "    <tr style=\"text-align: right;\">\n",
       "      <th></th>\n",
       "      <th>PRODUCT</th>\n",
       "      <th>DRAW NUMBER</th>\n",
       "      <th>SEQUENCE NUMBER</th>\n",
       "      <th>DRAW DATE</th>\n",
       "      <th>NUMBER DRAWN 1</th>\n",
       "      <th>NUMBER DRAWN 2</th>\n",
       "      <th>NUMBER DRAWN 3</th>\n",
       "      <th>NUMBER DRAWN 4</th>\n",
       "      <th>NUMBER DRAWN 5</th>\n",
       "      <th>NUMBER DRAWN 6</th>\n",
       "      <th>BONUS NUMBER</th>\n",
       "    </tr>\n",
       "  </thead>\n",
       "  <tbody>\n",
       "    <tr>\n",
       "      <th>3662</th>\n",
       "      <td>649</td>\n",
       "      <td>3589</td>\n",
       "      <td>0</td>\n",
       "      <td>6/13/2018</td>\n",
       "      <td>6</td>\n",
       "      <td>22</td>\n",
       "      <td>24</td>\n",
       "      <td>31</td>\n",
       "      <td>32</td>\n",
       "      <td>34</td>\n",
       "      <td>16</td>\n",
       "    </tr>\n",
       "    <tr>\n",
       "      <th>3663</th>\n",
       "      <td>649</td>\n",
       "      <td>3590</td>\n",
       "      <td>0</td>\n",
       "      <td>6/16/2018</td>\n",
       "      <td>2</td>\n",
       "      <td>15</td>\n",
       "      <td>21</td>\n",
       "      <td>31</td>\n",
       "      <td>38</td>\n",
       "      <td>49</td>\n",
       "      <td>8</td>\n",
       "    </tr>\n",
       "    <tr>\n",
       "      <th>3664</th>\n",
       "      <td>649</td>\n",
       "      <td>3591</td>\n",
       "      <td>0</td>\n",
       "      <td>6/20/2018</td>\n",
       "      <td>14</td>\n",
       "      <td>24</td>\n",
       "      <td>31</td>\n",
       "      <td>35</td>\n",
       "      <td>37</td>\n",
       "      <td>48</td>\n",
       "      <td>17</td>\n",
       "    </tr>\n",
       "  </tbody>\n",
       "</table>\n",
       "</div>"
      ],
      "text/plain": [
       "      PRODUCT  DRAW NUMBER  SEQUENCE NUMBER  DRAW DATE  NUMBER DRAWN 1  \\\n",
       "3662      649         3589                0  6/13/2018               6   \n",
       "3663      649         3590                0  6/16/2018               2   \n",
       "3664      649         3591                0  6/20/2018              14   \n",
       "\n",
       "      NUMBER DRAWN 2  NUMBER DRAWN 3  NUMBER DRAWN 4  NUMBER DRAWN 5  \\\n",
       "3662              22              24              31              32   \n",
       "3663              15              21              31              38   \n",
       "3664              24              31              35              37   \n",
       "\n",
       "      NUMBER DRAWN 6  BONUS NUMBER  \n",
       "3662              34            16  \n",
       "3663              49             8  \n",
       "3664              48            17  "
      ]
     },
     "execution_count": 5,
     "metadata": {},
     "output_type": "execute_result"
    }
   ],
   "source": [
    "data.tail(3)"
   ]
  },
  {
   "cell_type": "markdown",
   "metadata": {},
   "source": [
    "The data set contains historical data for 3,665 drawings (each row shows data for a single drawing), dating from 1982 to 2018. For each drawing, we can find the six numbers drawn in the following six columns:\n",
    "\n",
    "- NUMBER DRAWN 1\n",
    "- NUMBER DRAWN 2\n",
    "- NUMBER DRAWN 3\n",
    "- NUMBER DRAWN 4\n",
    "- NUMBER DRAWN 5\n",
    "- NUMBER DRAWN 6"
   ]
  },
  {
   "cell_type": "markdown",
   "metadata": {},
   "source": [
    "The engineering team wants us to write a function that prints:\n",
    "\n",
    "- the number of times the combination selected occurred in the Canada data set; and\n",
    "- the probability of winning the big prize in the next drawing with that combination."
   ]
  },
  {
   "cell_type": "code",
   "execution_count": 6,
   "metadata": {},
   "outputs": [
    {
     "data": {
      "text/plain": [
       "0        {3, 41, 11, 12, 43, 14}\n",
       "1        {33, 36, 37, 39, 8, 41}\n",
       "2         {1, 6, 39, 23, 24, 27}\n",
       "3         {3, 9, 10, 43, 13, 20}\n",
       "4        {34, 5, 14, 47, 21, 31}\n",
       "                  ...           \n",
       "3660    {38, 40, 41, 10, 15, 23}\n",
       "3661    {36, 46, 47, 19, 25, 31}\n",
       "3662     {32, 34, 6, 22, 24, 31}\n",
       "3663     {2, 38, 15, 49, 21, 31}\n",
       "3664    {35, 37, 14, 48, 24, 31}\n",
       "Length: 3665, dtype: object"
      ]
     },
     "execution_count": 6,
     "metadata": {},
     "output_type": "execute_result"
    }
   ],
   "source": [
    "# This function get in a row from the dataset\n",
    "# and return a set of drawn numbers\n",
    "def extract_numbers(row):\n",
    "    result = set()\n",
    "    for i in range(1, 7):\n",
    "        rowname = 'NUMBER DRAWN {}'.format(i)\n",
    "        result.add(row[rowname])\n",
    "    return result\n",
    "\n",
    "winning_numbers = data.apply(extract_numbers, axis = 1)\n",
    "winning_numbers"
   ]
  },
  {
   "cell_type": "code",
   "execution_count": 7,
   "metadata": {},
   "outputs": [
    {
     "data": {
      "text/plain": [
       "3665"
      ]
     },
     "execution_count": 7,
     "metadata": {},
     "output_type": "execute_result"
    }
   ],
   "source": [
    "# number of drawn numbers:\n",
    "data.shape[0]"
   ]
  },
  {
   "cell_type": "code",
   "execution_count": 8,
   "metadata": {},
   "outputs": [
    {
     "name": "stdout",
     "output_type": "stream",
     "text": [
      "The number of times that this combination of numbers {42, 44, 13, 22, 24, 27} occurred in the past is: 0\n",
      "The chance of the big prize in the next drawing for this combination of numbers {42, 44, 13, 22, 24, 27} will be 0.00%.\n",
      "**********************\n",
      "The number of times that this combination of numbers {2, 38, 15, 49, 21, 31} occurred in the past is: 1\n",
      "The chance of the big prize in the next drawing for this combination of numbers {2, 38, 15, 49, 21, 31} will be 0.03%.\n"
     ]
    }
   ],
   "source": [
    "# This function gets in a combination of numbers by a user \n",
    "# and a series of winning numbers. \n",
    "#It prints the number of occurrences of that numbers \n",
    "# and the chance of winning with those numbers.\n",
    "def check_historical_occurence(user_numbers, winning_numbers):\n",
    "    user_numbers_set = set(user_numbers)\n",
    "    number_of_occurences = sum(winning_numbers == user_numbers_set)\n",
    "    number_of_outcomes = data.shape[0]\n",
    "    print(\n",
    "        'The number of times that this combination of numbers {} occurred in the past is: {}'.\n",
    "        format(user_numbers_set, number_of_occurences))\n",
    "    print(\n",
    "        'The chance of the big prize in the next drawing for this combination of numbers {} will be {:.2f}%.'.\n",
    "        format(user_numbers_set, (number_of_occurences/number_of_outcomes)*100))\n",
    "    pass\n",
    "\n",
    "# Test the above function\n",
    "check_historical_occurence([13, 22, 24, 27, 42, 44], winning_numbers)\n",
    "print('**********************')\n",
    "check_historical_occurence([2, 38, 15, 49, 21, 31], winning_numbers)    "
   ]
  },
  {
   "cell_type": "markdown",
   "metadata": {},
   "source": [
    "Using these function, the user figures out what is his chance to win the big prize according to the historic data.  "
   ]
  },
  {
   "cell_type": "markdown",
   "metadata": {},
   "source": [
    "## Multiple tickets probability\n",
    "\n",
    "Lottery addicts usually play more than one ticket on a single drawing, thinking that this might increase their chances of winning significantly. Our purpose is to help them better estimate their chances of winning — on this screen, we're going to write a function that will allow the users to calculate the chances of winning for any number of different tickets."
   ]
  },
  {
   "cell_type": "code",
   "execution_count": 9,
   "metadata": {},
   "outputs": [
    {
     "name": "stdout",
     "output_type": "stream",
     "text": [
      "The chance of winning the big prize with 1 tickets is 0.000007%.\n",
      "The chance of winning the big prize with 10 tickets is 0.000072%.\n",
      "The chance of winning the big prize with 100 tickets is 0.000715%.\n",
      "The chance of winning the big prize with 10000 tickets is 0.071511%.\n",
      "The chance of winning the big prize with 1000000 tickets is 7.151124%.\n",
      "The chance of winning the big prize with 6991908 tickets is 50.000000%.\n",
      "The chance of winning the big prize with 13983816 tickets is 100.000000%.\n"
     ]
    }
   ],
   "source": [
    "# This function calculates and prints the probability of winning \n",
    "# multiple tickets.\n",
    "def multi_ticket_probability(number_of_tickets):\n",
    "    number_of_outcomes = combinations(49, 6)\n",
    "    prob = (number_of_tickets/number_of_outcomes)*100\n",
    "    print('The chance of winning the big prize with {} tickets is {:.6f}%.'.\n",
    "         format(number_of_tickets, prob))\n",
    "    pass\n",
    "\n",
    "# Test the above function.\n",
    "test = [1, 10, 100, 10000, 1000000, 6991908, 13983816]\n",
    "for t in test:\n",
    "    multi_ticket_probability(t)"
   ]
  },
  {
   "cell_type": "markdown",
   "metadata": {},
   "source": [
    "Since the total combinations of the numbers is a big number (13,983,816). The chance of winning by buying less than 100 tickets is almost 0. Buying 1 million tickets has the chance of 7% to win. So buying a few tickets does not increase the chance to win significantly than one ticket."
   ]
  },
  {
   "cell_type": "markdown",
   "metadata": {},
   "source": [
    "## Matching 2-5 numbers\n",
    "\n",
    "In most 6/49 lotteries there are smaller prizes if a player's ticket match two, three, four, or five of the six numbers drawn. As a consequence, the users might be interested in knowing the probability of having two, three, four, or five winning numbers.\n",
    "\n",
    "The engineering team has asked to write a function to allow the users to calculate probabilities for two, three, four, or five winning numbers (not at least two, three, ...).\n",
    "\n",
    "These are the engineering details we'll need to be aware of:\n",
    "\n",
    "- Inside the app, the user inputs:\n",
    "    - six different numbers from 1 to 49; and\n",
    "    - an integer between 2 and 5 that represents the number of winning numbers expected\n",
    "- Our function prints information about the probability of having the inputted number of winning numbers.\n",
    "\n",
    "The function below calculates the probability that a player's ticket matches **exactly** the given number of winning numbers (no more and no less). The function will not return the probability of having at least five winning numbers. \n",
    "\n",
    "print_result is another input parameter that indicates if we want to print the result or not."
   ]
  },
  {
   "cell_type": "code",
   "execution_count": 10,
   "metadata": {
    "scrolled": true
   },
   "outputs": [
    {
     "name": "stdout",
     "output_type": "stream",
     "text": [
      "The chance of winning 2 numbers with this ticket is 13.237803%.\n",
      "The chance of winning 3 numbers with this ticket is 1.765040%.\n",
      "The chance of winning 4 numbers with this ticket is 0.096862%.\n",
      "The chance of winning 5 numbers with this ticket is 0.001845%.\n"
     ]
    }
   ],
   "source": [
    "# This function calculates and prints the probability of having two, \n",
    "# three, four or five winning numbers exactly.\n",
    "def probability_less_6(number_of_winning, print_result):\n",
    "    winning_combinations = combinations(6, number_of_winning)\n",
    "    remaining_combinations = combinations(43, 6-number_of_winning)\n",
    "    successful_outcomes = winning_combinations * remaining_combinations\n",
    "    total_outcomes = combinations(49, 6)\n",
    "    prob = (successful_outcomes/total_outcomes)*100\n",
    "    if print_result:\n",
    "        print(\n",
    "            'The chance of winning {} numbers with this ticket is {:.6f}%.'.\n",
    "             format(number_of_winning, prob))\n",
    "    return prob\n",
    "\n",
    "# Test the above function\n",
    "for t in range(2, 6):\n",
    "    probability_less_6(t, True)"
   ]
  },
  {
   "cell_type": "markdown",
   "metadata": {},
   "source": [
    "### Matching at least 2-5 numbers\n",
    "\n",
    "It can also be helpful to implement a function that helps users to figure out What is the probability of winning at least 2 or 3 numbers. "
   ]
  },
  {
   "cell_type": "code",
   "execution_count": 11,
   "metadata": {},
   "outputs": [
    {
     "name": "stdout",
     "output_type": "stream",
     "text": [
      "The chance of winning at least 2 numbers with this ticket is 15.101557%.\n",
      "The chance of winning at least 3 numbers with this ticket is 1.863755%.\n",
      "The chance of winning at least 4 numbers with this ticket is 0.098714%.\n",
      "The chance of winning at least 5 numbers with this ticket is 0.001852%.\n"
     ]
    }
   ],
   "source": [
    "# calculates the probability of having at least two, \n",
    "# three, four or five winning numbers\n",
    "def probability_at_least(number_of_winning):\n",
    "    total_prob = (1/combinations(49, 6))*100\n",
    "    for i in range(number_of_winning, 6):\n",
    "        total_prob += probability_less_6(i, False)\n",
    "    print(\n",
    "        'The chance of winning at least {} numbers with this ticket is {:.6f}%.'.\n",
    "         format(number_of_winning, total_prob))\n",
    "    return total_prob\n",
    "\n",
    "# Test the above function\n",
    "for t in range(2, 6):\n",
    "    probability_at_least(t)"
   ]
  },
  {
   "cell_type": "markdown",
   "metadata": {},
   "source": [
    "## Summary and next steps:\n",
    "\n",
    "For the first version of the app, some functions were requested to answer the following questions.\n",
    "\n",
    "- What is the probability of winning the big prize with a single ticket?\n",
    "- What is the probability of winning the big prize if we play 40 different tickets (or any other number)?\n",
    "- What is the probability of having at least five (or four, or three, or two) winning numbers on a single ticket?\n",
    "\n",
    "I coded the following functions. The first four functions are sufficient to answer the above questions. The last function gives a better understanding of the probability of winning.\n",
    "\n",
    "- **one_ticket_probability()**: calculates the probability of winning the big prize with a single ticket\n",
    "- **check_historical_occurrence()**: checks whether a certain combination has occurred in the Canada lottery data set\n",
    "- **multi_ticket_probability()**: calculates the probability for any number of of tickets between 1 and 13,983,816\n",
    "- **probability_less_6()**: calculates the probability of having two, three, four or five winning numbers exactly\n",
    "- **probability_at_least()**:  calculates the probability of having at least two, three, four or five winning numbers\n",
    "\n",
    "Possible features for a second version of the app include:\n",
    "\n",
    "- Making the outputs even easier to understand by adding fun analogies (for example, we can find probabilities for strange events and compare with the chances of winning in the lottery; for instance, we can output something along the lines \"You are 100 times more likely to be the victim of a shark attack than winning the lottery\")\n",
    "- Combining the one_ticket_probability() and check_historical_occurrence() to output information on probability and historical occurrence at the same time"
   ]
  }
 ],
 "metadata": {
  "kernelspec": {
   "display_name": "Python 3",
   "language": "python",
   "name": "python3"
  },
  "language_info": {
   "codemirror_mode": {
    "name": "ipython",
    "version": 3
   },
   "file_extension": ".py",
   "mimetype": "text/x-python",
   "name": "python",
   "nbconvert_exporter": "python",
   "pygments_lexer": "ipython3",
   "version": "3.7.6"
  }
 },
 "nbformat": 4,
 "nbformat_minor": 2
}
